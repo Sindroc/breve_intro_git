{
 "cells": [
  {
   "cell_type": "markdown",
   "metadata": {},
   "source": [
    "# Breve introducción a Git\n",
    "**Crear un repositorio en Git**\n",
    "En esta sesión vamos a aprender a crear un repositorio en Git. \n",
    "\n",
    "**1.** En la parte superior derecha encontrará la opción de crear repositorio:"
   ]
  },
  {
   "cell_type": "markdown",
   "metadata": {},
   "source": [
    "<img src=\"repo1.png\">"
   ]
  },
  {
   "cell_type": "markdown",
   "metadata": {},
   "source": [
    "**2.** Inmediatamente encontrará un espacio para nombrar su prepositorio (1). Luego (2) podrá escoger si desea que el repositorio sea público, o privado. Si usted desea dar a conocer su trabajo y usar Git como un portafolio, se recomienda dejar el repositorio en modo público. Incluso los ejercicos más simples pueden pueden mostrarle a un potencial empleador el modo en que usted ha avanzado desde que empezó a programar. En el paso (3), usted puede seleccionar **Add a README file** para dar una breve descripción del repositiorio, este es un paso recomendado ya que puede dar una idea de lo que el público encontrará allí. Finalmente acepte y de click en crear repositorio (4)."
   ]
  },
  {
   "cell_type": "markdown",
   "metadata": {},
   "source": [
    "<img src=\"repo2.png\">"
   ]
  },
  {
   "cell_type": "code",
   "execution_count": null,
   "metadata": {},
   "outputs": [],
   "source": []
  }
 ],
 "metadata": {
  "kernelspec": {
   "display_name": "Python 3",
   "language": "python",
   "name": "python3"
  },
  "language_info": {
   "codemirror_mode": {
    "name": "ipython",
    "version": 3
   },
   "file_extension": ".py",
   "mimetype": "text/x-python",
   "name": "python",
   "nbconvert_exporter": "python",
   "pygments_lexer": "ipython3",
   "version": "3.8.5"
  }
 },
 "nbformat": 4,
 "nbformat_minor": 4
}
